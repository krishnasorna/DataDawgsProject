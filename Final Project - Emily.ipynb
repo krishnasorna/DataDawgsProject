{
 "cells": [
  {
   "cell_type": "code",
   "execution_count": 59,
   "id": "f70a5dfd",
   "metadata": {},
   "outputs": [
    {
     "data": {
      "text/html": [
       "<div>\n",
       "<style scoped>\n",
       "    .dataframe tbody tr th:only-of-type {\n",
       "        vertical-align: middle;\n",
       "    }\n",
       "\n",
       "    .dataframe tbody tr th {\n",
       "        vertical-align: top;\n",
       "    }\n",
       "\n",
       "    .dataframe thead th {\n",
       "        text-align: right;\n",
       "    }\n",
       "</style>\n",
       "<table border=\"1\" class=\"dataframe\">\n",
       "  <thead>\n",
       "    <tr style=\"text-align: right;\">\n",
       "      <th></th>\n",
       "      <th>Player</th>\n",
       "      <th>GP</th>\n",
       "      <th>GS</th>\n",
       "      <th>MIN</th>\n",
       "      <th>PTS</th>\n",
       "      <th>FGM</th>\n",
       "      <th>FGA</th>\n",
       "      <th>FGP</th>\n",
       "      <th>3PMade</th>\n",
       "      <th>3PA</th>\n",
       "      <th>...</th>\n",
       "      <th>FTP</th>\n",
       "      <th>OFF</th>\n",
       "      <th>DEF</th>\n",
       "      <th>TRB</th>\n",
       "      <th>AST</th>\n",
       "      <th>STL</th>\n",
       "      <th>BLK</th>\n",
       "      <th>TOV</th>\n",
       "      <th>PF</th>\n",
       "      <th>NBA_PTS</th>\n",
       "    </tr>\n",
       "  </thead>\n",
       "  <tbody>\n",
       "    <tr>\n",
       "      <th>0</th>\n",
       "      <td>Cade Cunningham</td>\n",
       "      <td>27</td>\n",
       "      <td>26</td>\n",
       "      <td>35.4</td>\n",
       "      <td>20.15</td>\n",
       "      <td>6.48</td>\n",
       "      <td>14.81</td>\n",
       "      <td>0.44</td>\n",
       "      <td>2.30</td>\n",
       "      <td>5.74</td>\n",
       "      <td>...</td>\n",
       "      <td>0.85</td>\n",
       "      <td>0.70</td>\n",
       "      <td>5.48</td>\n",
       "      <td>6.19</td>\n",
       "      <td>3.48</td>\n",
       "      <td>1.59</td>\n",
       "      <td>0.78</td>\n",
       "      <td>4.04</td>\n",
       "      <td>2.48</td>\n",
       "      <td>17.41</td>\n",
       "    </tr>\n",
       "    <tr>\n",
       "      <th>1</th>\n",
       "      <td>Jalen Suggs</td>\n",
       "      <td>30</td>\n",
       "      <td>30</td>\n",
       "      <td>28.9</td>\n",
       "      <td>14.37</td>\n",
       "      <td>5.17</td>\n",
       "      <td>10.27</td>\n",
       "      <td>0.50</td>\n",
       "      <td>1.17</td>\n",
       "      <td>3.47</td>\n",
       "      <td>...</td>\n",
       "      <td>0.76</td>\n",
       "      <td>0.60</td>\n",
       "      <td>4.73</td>\n",
       "      <td>5.33</td>\n",
       "      <td>4.53</td>\n",
       "      <td>1.90</td>\n",
       "      <td>0.33</td>\n",
       "      <td>2.93</td>\n",
       "      <td>2.60</td>\n",
       "      <td>11.75</td>\n",
       "    </tr>\n",
       "    <tr>\n",
       "      <th>2</th>\n",
       "      <td>Franz Wagner</td>\n",
       "      <td>28</td>\n",
       "      <td>26</td>\n",
       "      <td>31.8</td>\n",
       "      <td>12.46</td>\n",
       "      <td>4.43</td>\n",
       "      <td>9.29</td>\n",
       "      <td>0.48</td>\n",
       "      <td>1.25</td>\n",
       "      <td>3.64</td>\n",
       "      <td>...</td>\n",
       "      <td>0.84</td>\n",
       "      <td>0.71</td>\n",
       "      <td>5.82</td>\n",
       "      <td>6.54</td>\n",
       "      <td>3.00</td>\n",
       "      <td>1.25</td>\n",
       "      <td>1.04</td>\n",
       "      <td>1.29</td>\n",
       "      <td>2.21</td>\n",
       "      <td>15.15</td>\n",
       "    </tr>\n",
       "    <tr>\n",
       "      <th>3</th>\n",
       "      <td>Davion Mitchell</td>\n",
       "      <td>30</td>\n",
       "      <td>30</td>\n",
       "      <td>32.4</td>\n",
       "      <td>14.00</td>\n",
       "      <td>5.27</td>\n",
       "      <td>10.30</td>\n",
       "      <td>0.51</td>\n",
       "      <td>2.10</td>\n",
       "      <td>4.70</td>\n",
       "      <td>...</td>\n",
       "      <td>0.64</td>\n",
       "      <td>0.47</td>\n",
       "      <td>2.20</td>\n",
       "      <td>2.67</td>\n",
       "      <td>5.50</td>\n",
       "      <td>1.90</td>\n",
       "      <td>0.37</td>\n",
       "      <td>2.43</td>\n",
       "      <td>2.37</td>\n",
       "      <td>11.48</td>\n",
       "    </tr>\n",
       "    <tr>\n",
       "      <th>4</th>\n",
       "      <td>James Bouknight</td>\n",
       "      <td>15</td>\n",
       "      <td>14</td>\n",
       "      <td>31.6</td>\n",
       "      <td>18.73</td>\n",
       "      <td>6.53</td>\n",
       "      <td>14.60</td>\n",
       "      <td>0.45</td>\n",
       "      <td>1.47</td>\n",
       "      <td>5.00</td>\n",
       "      <td>...</td>\n",
       "      <td>0.78</td>\n",
       "      <td>1.53</td>\n",
       "      <td>4.13</td>\n",
       "      <td>5.67</td>\n",
       "      <td>1.80</td>\n",
       "      <td>1.13</td>\n",
       "      <td>0.27</td>\n",
       "      <td>2.80</td>\n",
       "      <td>1.87</td>\n",
       "      <td>4.58</td>\n",
       "    </tr>\n",
       "  </tbody>\n",
       "</table>\n",
       "<p>5 rows × 23 columns</p>\n",
       "</div>"
      ],
      "text/plain": [
       "            Player  GP  GS   MIN    PTS   FGM    FGA   FGP  3PMade   3PA  ...  \\\n",
       "0  Cade Cunningham  27  26  35.4  20.15  6.48  14.81  0.44    2.30  5.74  ...   \n",
       "1      Jalen Suggs  30  30  28.9  14.37  5.17  10.27  0.50    1.17  3.47  ...   \n",
       "2     Franz Wagner  28  26  31.8  12.46  4.43   9.29  0.48    1.25  3.64  ...   \n",
       "3  Davion Mitchell  30  30  32.4  14.00  5.27  10.30  0.51    2.10  4.70  ...   \n",
       "4  James Bouknight  15  14  31.6  18.73  6.53  14.60  0.45    1.47  5.00  ...   \n",
       "\n",
       "    FTP   OFF   DEF   TRB   AST   STL   BLK   TOV    PF  NBA_PTS  \n",
       "0  0.85  0.70  5.48  6.19  3.48  1.59  0.78  4.04  2.48    17.41  \n",
       "1  0.76  0.60  4.73  5.33  4.53  1.90  0.33  2.93  2.60    11.75  \n",
       "2  0.84  0.71  5.82  6.54  3.00  1.25  1.04  1.29  2.21    15.15  \n",
       "3  0.64  0.47  2.20  2.67  5.50  1.90  0.37  2.43  2.37    11.48  \n",
       "4  0.78  1.53  4.13  5.67  1.80  1.13  0.27  2.80  1.87     4.58  \n",
       "\n",
       "[5 rows x 23 columns]"
      ]
     },
     "execution_count": 59,
     "metadata": {},
     "output_type": "execute_result"
    }
   ],
   "source": [
    "import pandas as pd\n",
    "import numpy as np\n",
    "import seaborn as sns\n",
    "import matplotlib.pyplot as plt\n",
    "from sklearn.linear_model import Ridge, RidgeCV, Lasso, LassoCV\n",
    "from sklearn.preprocessing import StandardScaler \n",
    "from sklearn.metrics import r2_score\n",
    "import itertools\n",
    "import time\n",
    "import statsmodels.formula.api as sm\n",
    "\n",
    "train = pd.read_csv('ncaa_train.csv')\n",
    "test = pd.read_csv('ncaa_test.csv')\n",
    "train.head()"
   ]
  },
  {
   "cell_type": "code",
   "execution_count": 60,
   "id": "e48b1dde",
   "metadata": {},
   "outputs": [
    {
     "data": {
      "text/plain": [
       "NBA_PTS    1.000000\n",
       "GS         0.433931\n",
       "FTP        0.351406\n",
       "GP         0.337517\n",
       "FGP        0.175595\n",
       "3P         0.118538\n",
       "3PMade    -0.088612\n",
       "3PA       -0.115555\n",
       "STL       -0.119924\n",
       "PTS       -0.127831\n",
       "FGM       -0.127960\n",
       "DEF       -0.133304\n",
       "FGA       -0.134550\n",
       "BLK       -0.135632\n",
       "MIN       -0.137165\n",
       "FTM       -0.138844\n",
       "TRB       -0.140068\n",
       "TOV       -0.140331\n",
       "PF        -0.141934\n",
       "AST       -0.145064\n",
       "FTA       -0.148000\n",
       "OFF       -0.172655\n",
       "Name: NBA_PTS, dtype: float64"
      ]
     },
     "execution_count": 60,
     "metadata": {},
     "output_type": "execute_result"
    }
   ],
   "source": [
    "train.corr()['NBA_PTS'].sort_values(ascending=False)"
   ]
  },
  {
   "cell_type": "code",
   "execution_count": 41,
   "id": "3f35bd53",
   "metadata": {},
   "outputs": [
    {
     "data": {
      "text/html": [
       "<table class=\"simpletable\">\n",
       "<caption>OLS Regression Results</caption>\n",
       "<tr>\n",
       "  <th>Dep. Variable:</th>         <td>NBA_PTS</td>     <th>  R-squared:         </th> <td>   0.188</td>\n",
       "</tr>\n",
       "<tr>\n",
       "  <th>Model:</th>                   <td>OLS</td>       <th>  Adj. R-squared:    </th> <td>   0.160</td>\n",
       "</tr>\n",
       "<tr>\n",
       "  <th>Method:</th>             <td>Least Squares</td>  <th>  F-statistic:       </th> <td>   6.727</td>\n",
       "</tr>\n",
       "<tr>\n",
       "  <th>Date:</th>             <td>Thu, 02 Mar 2023</td> <th>  Prob (F-statistic):</th>  <td>0.0147</td> \n",
       "</tr>\n",
       "<tr>\n",
       "  <th>Time:</th>                 <td>22:44:16</td>     <th>  Log-Likelihood:    </th> <td> -85.405</td>\n",
       "</tr>\n",
       "<tr>\n",
       "  <th>No. Observations:</th>      <td>    31</td>      <th>  AIC:               </th> <td>   174.8</td>\n",
       "</tr>\n",
       "<tr>\n",
       "  <th>Df Residuals:</th>          <td>    29</td>      <th>  BIC:               </th> <td>   177.7</td>\n",
       "</tr>\n",
       "<tr>\n",
       "  <th>Df Model:</th>              <td>     1</td>      <th>                     </th>     <td> </td>   \n",
       "</tr>\n",
       "<tr>\n",
       "  <th>Covariance Type:</th>      <td>nonrobust</td>    <th>                     </th>     <td> </td>   \n",
       "</tr>\n",
       "</table>\n",
       "<table class=\"simpletable\">\n",
       "<tr>\n",
       "      <td></td>         <th>coef</th>     <th>std err</th>      <th>t</th>      <th>P>|t|</th>  <th>[0.025</th>    <th>0.975]</th>  \n",
       "</tr>\n",
       "<tr>\n",
       "  <th>Intercept</th> <td>    0.5538</td> <td>    2.429</td> <td>    0.228</td> <td> 0.821</td> <td>   -4.414</td> <td>    5.521</td>\n",
       "</tr>\n",
       "<tr>\n",
       "  <th>GS</th>        <td>    0.2521</td> <td>    0.097</td> <td>    2.594</td> <td> 0.015</td> <td>    0.053</td> <td>    0.451</td>\n",
       "</tr>\n",
       "</table>\n",
       "<table class=\"simpletable\">\n",
       "<tr>\n",
       "  <th>Omnibus:</th>       <td> 3.915</td> <th>  Durbin-Watson:     </th> <td>   1.202</td>\n",
       "</tr>\n",
       "<tr>\n",
       "  <th>Prob(Omnibus):</th> <td> 0.141</td> <th>  Jarque-Bera (JB):  </th> <td>   2.692</td>\n",
       "</tr>\n",
       "<tr>\n",
       "  <th>Skew:</th>          <td> 0.704</td> <th>  Prob(JB):          </th> <td>   0.260</td>\n",
       "</tr>\n",
       "<tr>\n",
       "  <th>Kurtosis:</th>      <td> 3.315</td> <th>  Cond. No.          </th> <td>    86.0</td>\n",
       "</tr>\n",
       "</table><br/><br/>Notes:<br/>[1] Standard Errors assume that the covariance matrix of the errors is correctly specified."
      ],
      "text/plain": [
       "<class 'statsmodels.iolib.summary.Summary'>\n",
       "\"\"\"\n",
       "                            OLS Regression Results                            \n",
       "==============================================================================\n",
       "Dep. Variable:                NBA_PTS   R-squared:                       0.188\n",
       "Model:                            OLS   Adj. R-squared:                  0.160\n",
       "Method:                 Least Squares   F-statistic:                     6.727\n",
       "Date:                Thu, 02 Mar 2023   Prob (F-statistic):             0.0147\n",
       "Time:                        22:44:16   Log-Likelihood:                -85.405\n",
       "No. Observations:                  31   AIC:                             174.8\n",
       "Df Residuals:                      29   BIC:                             177.7\n",
       "Df Model:                           1                                         \n",
       "Covariance Type:            nonrobust                                         \n",
       "==============================================================================\n",
       "                 coef    std err          t      P>|t|      [0.025      0.975]\n",
       "------------------------------------------------------------------------------\n",
       "Intercept      0.5538      2.429      0.228      0.821      -4.414       5.521\n",
       "GS             0.2521      0.097      2.594      0.015       0.053       0.451\n",
       "==============================================================================\n",
       "Omnibus:                        3.915   Durbin-Watson:                   1.202\n",
       "Prob(Omnibus):                  0.141   Jarque-Bera (JB):                2.692\n",
       "Skew:                           0.704   Prob(JB):                        0.260\n",
       "Kurtosis:                       3.315   Cond. No.                         86.0\n",
       "==============================================================================\n",
       "\n",
       "Notes:\n",
       "[1] Standard Errors assume that the covariance matrix of the errors is correctly specified.\n",
       "\"\"\""
      ]
     },
     "execution_count": 41,
     "metadata": {},
     "output_type": "execute_result"
    }
   ],
   "source": [
    "model1 = sm.ols(formula = 'NBA_PTS~GS', data=train).fit()\n",
    "model1.summary()"
   ]
  },
  {
   "cell_type": "code",
   "execution_count": 50,
   "id": "bab19d1c",
   "metadata": {},
   "outputs": [
    {
     "data": {
      "text/plain": [
       "<AxesSubplot:xlabel='GS', ylabel='NBA_PTS'>"
      ]
     },
     "execution_count": 50,
     "metadata": {},
     "output_type": "execute_result"
    },
    {
     "data": {
      "image/png": "[encoded data removed]",
      "text/plain": [
       "<Figure size 432x288 with 1 Axes>"
      ]
     },
     "metadata": {
      "needs_background": "light"
     },
     "output_type": "display_data"
    }
   ],
   "source": [
    "sns.regplot(x='GS',y='NBA_PTS', data=train)"
   ]
  },
  {
   "cell_type": "code",
   "execution_count": 42,
   "id": "04f3a275",
   "metadata": {},
   "outputs": [
    {
     "name": "stdout",
     "output_type": "stream",
     "text": [
      "RMSE =  5.576177146620047 resid. standard error =  3.9329616080267082\n"
     ]
    }
   ],
   "source": [
    "preds1 = model1.predict(test)\n",
    "actuals = test[['NBA_PTS']]\n",
    "actuals = actuals.iloc[:,0]\n",
    "print('RMSE = ', np.sqrt(((preds1 - actuals)**2).mean()),'resid. standard error = ',np.sqrt(model1.mse_resid))"
   ]
  },
  {
   "cell_type": "code",
   "execution_count": 58,
   "id": "0ac622b4",
   "metadata": {},
   "outputs": [
    {
     "data": {
      "text/plain": [
       "Text(0, 0.5, 'Residuals')"
      ]
     },
     "execution_count": 58,
     "metadata": {},
     "output_type": "execute_result"
    },
    {
     "data": {
      "image/png": "[encoded data removed]",
      "text/plain": [
       "<Figure size 648x432 with 1 Axes>"
      ]
     },
     "metadata": {},
     "output_type": "display_data"
    }
   ],
   "source": [
    "#Plotting residuals vs fitted values\n",
    "plt.rcParams[\"figure.figsize\"] = (9,6)\n",
    "sns.set(font_scale=1.25)\n",
    "ax = sns.scatterplot(x = model1.fittedvalues, y=model1.resid,color = 'orange')\n",
    "sns.lineplot(x = [preds1.min(),preds1.max()],y = [0,0],color = 'blue')\n",
    "plt.xlabel('Fitted values')\n",
    "plt.ylabel('Residuals')"
   ]
  },
  {
   "cell_type": "code",
   "execution_count": 43,
   "id": "e2ed16a8",
   "metadata": {},
   "outputs": [
    {
     "data": {
      "text/plain": [
       "<seaborn.axisgrid.PairGrid at 0x7f9b39ee65b0>"
      ]
     },
     "execution_count": 43,
     "metadata": {},
     "output_type": "execute_result"
    },
    {
     "data": {
      "image/png": "[encoded data removed]",
      "text/plain": [
       "<Figure size 900x900 with 30 Axes>"
      ]
     },
     "metadata": {
      "needs_background": "light"
     },
     "output_type": "display_data"
    }
   ],
   "source": [
    "top4 = train[['GS','FTP','GP','FGP','NBA_PTS']]\n",
    "sns.pairplot(top4)"
   ]
  },
  {
   "cell_type": "code",
   "execution_count": 53,
   "id": "d50cb732",
   "metadata": {},
   "outputs": [
    {
     "data": {
      "text/html": [
       "<table class=\"simpletable\">\n",
       "<caption>OLS Regression Results</caption>\n",
       "<tr>\n",
       "  <th>Dep. Variable:</th>     <td>np.log(NBA_PTS)</td> <th>  R-squared:         </th> <td>   0.501</td>\n",
       "</tr>\n",
       "<tr>\n",
       "  <th>Model:</th>                   <td>OLS</td>       <th>  Adj. R-squared:    </th> <td>   0.350</td>\n",
       "</tr>\n",
       "<tr>\n",
       "  <th>Method:</th>             <td>Least Squares</td>  <th>  F-statistic:       </th> <td>   3.303</td>\n",
       "</tr>\n",
       "<tr>\n",
       "  <th>Date:</th>             <td>Thu, 02 Mar 2023</td> <th>  Prob (F-statistic):</th>  <td>0.0140</td> \n",
       "</tr>\n",
       "<tr>\n",
       "  <th>Time:</th>                 <td>22:51:58</td>     <th>  Log-Likelihood:    </th> <td> -27.625</td>\n",
       "</tr>\n",
       "<tr>\n",
       "  <th>No. Observations:</th>      <td>    31</td>      <th>  AIC:               </th> <td>   71.25</td>\n",
       "</tr>\n",
       "<tr>\n",
       "  <th>Df Residuals:</th>          <td>    23</td>      <th>  BIC:               </th> <td>   82.72</td>\n",
       "</tr>\n",
       "<tr>\n",
       "  <th>Df Model:</th>              <td>     7</td>      <th>                     </th>     <td> </td>   \n",
       "</tr>\n",
       "<tr>\n",
       "  <th>Covariance Type:</th>      <td>nonrobust</td>    <th>                     </th>     <td> </td>   \n",
       "</tr>\n",
       "</table>\n",
       "<table class=\"simpletable\">\n",
       "<tr>\n",
       "       <td></td>          <th>coef</th>     <th>std err</th>      <th>t</th>      <th>P>|t|</th>  <th>[0.025</th>    <th>0.975]</th>  \n",
       "</tr>\n",
       "<tr>\n",
       "  <th>Intercept</th>   <td>   -8.2172</td> <td>   10.591</td> <td>   -0.776</td> <td> 0.446</td> <td>  -30.126</td> <td>   13.692</td>\n",
       "</tr>\n",
       "<tr>\n",
       "  <th>GS</th>          <td>    0.4276</td> <td>    0.169</td> <td>    2.526</td> <td> 0.019</td> <td>    0.077</td> <td>    0.778</td>\n",
       "</tr>\n",
       "<tr>\n",
       "  <th>GP</th>          <td>   -0.2668</td> <td>    0.257</td> <td>   -1.037</td> <td> 0.311</td> <td>   -0.799</td> <td>    0.266</td>\n",
       "</tr>\n",
       "<tr>\n",
       "  <th>FTP</th>         <td>    1.7933</td> <td>    1.700</td> <td>    1.055</td> <td> 0.302</td> <td>   -1.723</td> <td>    5.310</td>\n",
       "</tr>\n",
       "<tr>\n",
       "  <th>FGP</th>         <td>   24.4891</td> <td>   46.794</td> <td>    0.523</td> <td> 0.606</td> <td>  -72.313</td> <td>  121.291</td>\n",
       "</tr>\n",
       "<tr>\n",
       "  <th>I(GS ** 2)</th>  <td>   -0.0083</td> <td>    0.004</td> <td>   -2.032</td> <td> 0.054</td> <td>   -0.017</td> <td>    0.000</td>\n",
       "</tr>\n",
       "<tr>\n",
       "  <th>I(GP ** 2)</th>  <td>    0.0053</td> <td>    0.006</td> <td>    0.892</td> <td> 0.381</td> <td>   -0.007</td> <td>    0.017</td>\n",
       "</tr>\n",
       "<tr>\n",
       "  <th>I(FGP ** 2)</th> <td>  -21.7710</td> <td>   50.580</td> <td>   -0.430</td> <td> 0.671</td> <td> -126.404</td> <td>   82.862</td>\n",
       "</tr>\n",
       "</table>\n",
       "<table class=\"simpletable\">\n",
       "<tr>\n",
       "  <th>Omnibus:</th>       <td> 2.865</td> <th>  Durbin-Watson:     </th> <td>   1.343</td>\n",
       "</tr>\n",
       "<tr>\n",
       "  <th>Prob(Omnibus):</th> <td> 0.239</td> <th>  Jarque-Bera (JB):  </th> <td>   2.107</td>\n",
       "</tr>\n",
       "<tr>\n",
       "  <th>Skew:</th>          <td>-0.472</td> <th>  Prob(JB):          </th> <td>   0.349</td>\n",
       "</tr>\n",
       "<tr>\n",
       "  <th>Kurtosis:</th>      <td> 2.140</td> <th>  Cond. No.          </th> <td>5.82e+05</td>\n",
       "</tr>\n",
       "</table><br/><br/>Notes:<br/>[1] Standard Errors assume that the covariance matrix of the errors is correctly specified.<br/>[2] The condition number is large, 5.82e+05. This might indicate that there are<br/>strong multicollinearity or other numerical problems."
      ],
      "text/plain": [
       "<class 'statsmodels.iolib.summary.Summary'>\n",
       "\"\"\"\n",
       "                            OLS Regression Results                            \n",
       "==============================================================================\n",
       "Dep. Variable:        np.log(NBA_PTS)   R-squared:                       0.501\n",
       "Model:                            OLS   Adj. R-squared:                  0.350\n",
       "Method:                 Least Squares   F-statistic:                     3.303\n",
       "Date:                Thu, 02 Mar 2023   Prob (F-statistic):             0.0140\n",
       "Time:                        22:51:58   Log-Likelihood:                -27.625\n",
       "No. Observations:                  31   AIC:                             71.25\n",
       "Df Residuals:                      23   BIC:                             82.72\n",
       "Df Model:                           7                                         \n",
       "Covariance Type:            nonrobust                                         \n",
       "===============================================================================\n",
       "                  coef    std err          t      P>|t|      [0.025      0.975]\n",
       "-------------------------------------------------------------------------------\n",
       "Intercept      -8.2172     10.591     -0.776      0.446     -30.126      13.692\n",
       "GS              0.4276      0.169      2.526      0.019       0.077       0.778\n",
       "GP             -0.2668      0.257     -1.037      0.311      -0.799       0.266\n",
       "FTP             1.7933      1.700      1.055      0.302      -1.723       5.310\n",
       "FGP            24.4891     46.794      0.523      0.606     -72.313     121.291\n",
       "I(GS ** 2)     -0.0083      0.004     -2.032      0.054      -0.017       0.000\n",
       "I(GP ** 2)      0.0053      0.006      0.892      0.381      -0.007       0.017\n",
       "I(FGP ** 2)   -21.7710     50.580     -0.430      0.671    -126.404      82.862\n",
       "==============================================================================\n",
       "Omnibus:                        2.865   Durbin-Watson:                   1.343\n",
       "Prob(Omnibus):                  0.239   Jarque-Bera (JB):                2.107\n",
       "Skew:                          -0.472   Prob(JB):                        0.349\n",
       "Kurtosis:                       2.140   Cond. No.                     5.82e+05\n",
       "==============================================================================\n",
       "\n",
       "Notes:\n",
       "[1] Standard Errors assume that the covariance matrix of the errors is correctly specified.\n",
       "[2] The condition number is large, 5.82e+05. This might indicate that there are\n",
       "strong multicollinearity or other numerical problems.\n",
       "\"\"\""
      ]
     },
     "execution_count": 53,
     "metadata": {},
     "output_type": "execute_result"
    }
   ],
   "source": [
    "model2 = sm.ols(formula = 'np.log(NBA_PTS)~GS+GP+FTP+FGP+I(GS**2)+I(GP**2)+I(FGP**2)', data=train).fit()\n",
    "model2.summary()"
   ]
  },
  {
   "cell_type": "code",
   "execution_count": 54,
   "id": "f18b35ee",
   "metadata": {},
   "outputs": [
    {
     "name": "stdout",
     "output_type": "stream",
     "text": [
      "RMSE =  7.310378844092086 resid. standard error =  0.684850337045957\n"
     ]
    }
   ],
   "source": [
    "preds2 = model2.predict(test)\n",
    "actuals = test[['NBA_PTS']]\n",
    "actuals = actuals.iloc[:,0]\n",
    "print('RMSE = ', np.sqrt(((preds2 - actuals)**2).mean()),'resid. standard error = ',np.sqrt(model2.mse_resid))"
   ]
  },
  {
   "cell_type": "code",
   "execution_count": 57,
   "id": "2d72e2fa",
   "metadata": {},
   "outputs": [
    {
     "data": {
      "text/plain": [
       "Text(0, 0.5, 'Residuals')"
      ]
     },
     "execution_count": 57,
     "metadata": {},
     "output_type": "execute_result"
    },
    {
     "data": {
      "image/png": "[encoded data removed]",
      "text/plain": [
       "<Figure size 648x432 with 1 Axes>"
      ]
     },
     "metadata": {},
     "output_type": "display_data"
    }
   ],
   "source": [
    "#Plotting residuals vs fitted values\n",
    "plt.rcParams[\"figure.figsize\"] = (9,6)\n",
    "sns.set(font_scale=1.25)\n",
    "ax = sns.scatterplot(x = model2.fittedvalues, y=model2.resid,color = 'orange')\n",
    "sns.lineplot(x = [preds2.min(),preds2.max()],y = [0,0],color = 'blue')\n",
    "plt.xlabel('Fitted values')\n",
    "plt.ylabel('Residuals')"
   ]
  },
  {
   "cell_type": "code",
   "execution_count": null,
   "id": "60ca1068",
   "metadata": {},
   "outputs": [],
   "source": []
  }
 ],
 "metadata": {
  "kernelspec": {
   "display_name": "Python 3 (ipykernel)",
   "language": "python",
   "name": "python3"
  },
  "language_info": {
   "codemirror_mode": {
    "name": "ipython",
    "version": 3
   },
   "file_extension": ".py",
   "mimetype": "text/x-python",
   "name": "python",
   "nbconvert_exporter": "python",
   "pygments_lexer": "ipython3",
   "version": "3.9.12"
  }
 },
 "nbformat": 4,
 "nbformat_minor": 5
}
